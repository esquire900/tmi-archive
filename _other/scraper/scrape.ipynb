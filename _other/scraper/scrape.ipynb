{
 "cells": [
  {
   "cell_type": "code",
   "execution_count": 175,
   "metadata": {},
   "outputs": [],
   "source": [
    "from selenium import webdriver\n",
    "import time\n",
    "import pandas as pd\n",
    "from selenium.webdriver.common.by import By\n",
    "from selenium.webdriver.support.ui import WebDriverWait\n",
    "from selenium.webdriver.support import expected_conditions as ec\n",
    "from bs4 import BeautifulSoup\n",
    "import pandas as pd\n",
    "\n",
    "\n",
    "def start(hl=True):\n",
    "    # Simulated browser login\n",
    "    fireFoxOptions = webdriver.FirefoxOptions()\n",
    "    driver = webdriver.Firefox(options=fireFoxOptions)\n",
    "    time.sleep(4)\n",
    "    # LOGIN\n",
    "    return driver"
   ]
  },
  {
   "cell_type": "code",
   "execution_count": 176,
   "metadata": {},
   "outputs": [],
   "source": [
    "d = start()"
   ]
  },
  {
   "cell_type": "code",
   "execution_count": 177,
   "metadata": {},
   "outputs": [],
   "source": [
    "urls_to_do = [\"https://dharmatreasure.org/how-to-deal-with-wrongs-weve-done/\"]\n",
    "urls_done = []\n",
    "articles = []\n",
    "\n",
    "for i in range(1, 8):\n",
    "    d.get(\"https://dharmatreasure.org/section/dharma-talks/page/{}\".format(i))\n",
    "    for l in d.find_elements_by_tag_name(\"a\"):\n",
    "        if l.get_attribute(\"rel\") != \"\":\n",
    "            url = l.get_attribute(\"href\")\n",
    "            if \"wp-login\" not in url:\n",
    "                urls_to_do.append(url)"
   ]
  },
  {
   "cell_type": "code",
   "execution_count": 178,
   "metadata": {},
   "outputs": [],
   "source": [
    "while len(urls_to_do) > 0:\n",
    "    url = urls_to_do.pop()\n",
    "    if url in urls_done:\n",
    "        continue\n",
    "    d.get(url)\n",
    "    html = BeautifulSoup(d.page_source)\n",
    "    art = html.find(\"article\")\n",
    "    try:\n",
    "        audio = art.find(\"source\")[\"src\"]\n",
    "    except TypeError:\n",
    "        audio = None\n",
    "    except AttributeError:\n",
    "        urls_done.append(url)\n",
    "        continue\n",
    "    try:\n",
    "        articles.append(\n",
    "            {\n",
    "                \"article\": str(art),\n",
    "                \"url\": url,\n",
    "                \"title\": art.find(\"header\").text.strip(),\n",
    "                \"content\": art.find(\"div\")\n",
    "                .text.strip()\n",
    "                .split(\"http://s3.amazonaws.com/dharmatreasur\")[0]\n",
    "                .strip(),\n",
    "                \"audio_link\": audio,\n",
    "            }\n",
    "        )\n",
    "    except AttributeError:\n",
    "        urls_done.append(url)\n",
    "        continue\n",
    "    urls_done.append(url)\n",
    "    pd.DataFrame(articles).to_json(\"./articles-selenium.json\")\n",
    "    # find next links\n",
    "    for link in html.find_all(\"a\", href=True):\n",
    "        try:\n",
    "            if link[\"title\"] == \"Previous\" or link[\"title\"] == \"Next\":\n",
    "                urls_to_do.append(link[\"href\"])\n",
    "        except KeyError:\n",
    "            continue"
   ]
  }
 ],
 "metadata": {
  "kernelspec": {
   "display_name": "Python 3 (ipykernel)",
   "language": "python",
   "name": "python3"
  },
  "language_info": {
   "codemirror_mode": {
    "name": "ipython",
    "version": 3
   },
   "file_extension": ".py",
   "mimetype": "text/x-python",
   "name": "python",
   "nbconvert_exporter": "python",
   "pygments_lexer": "ipython3",
   "version": "3.9.0"
  }
 },
 "nbformat": 4,
 "nbformat_minor": 4
}
